{
 "cells": [
  {
   "cell_type": "markdown",
   "id": "c2cda77a-9bc6-47af-a48a-cc4773cc606f",
   "metadata": {},
   "source": [
    "# Data Science Tools and Ecosystem"
   ]
  },
  {
   "cell_type": "markdown",
   "id": "25c85273-b90d-4db4-9103-ae03045ffaa1",
   "metadata": {},
   "source": [
    "In this notebook, Data Science Tools and Ecosystem are summarized."
   ]
  },
  {
   "cell_type": "markdown",
   "id": "67ccfed8-5c92-45fb-af15-de06f0588739",
   "metadata": {},
   "source": [
    "**Objectives:** List popular languages for Data Science\n",
    "- Python\n",
    "- R\n",
    "- SQL"
   ]
  },
  {
   "cell_type": "markdown",
   "id": "008ab979-44ad-435b-8d75-7075d152c732",
   "metadata": {},
   "source": [
    "Some of the popular languages that Data Scientists use are:\n",
    "- Python\n",
    "- R\n",
    "- SQL"
   ]
  },
  {
   "cell_type": "markdown",
   "id": "3655f70d-63d7-4c90-80df-6fe25066423e",
   "metadata": {},
   "source": [
    "Some of the commonly used libraries used by Data Scientists include:\n",
    "1. Pandas\n",
    "2. NumPy\n",
    "3. Scikit-Learn\n",
    "4. Matplotlib\n",
    "5. Tensorflow"
   ]
  },
  {
   "cell_type": "markdown",
   "id": "981aea0e-580f-414d-9f1c-77e7eaff126b",
   "metadata": {},
   "source": [
    "| Data Science Tools  |\n",
    "| ------------- |\n",
    "| Jupyter Notebook | \n",
    "| RStudio |\n",
    "| Spyder |"
   ]
  },
  {
   "cell_type": "markdown",
   "id": "70a7e6a0-37e2-4346-a8bc-bcaf842b61ee",
   "metadata": {},
   "source": [
    "### Below are a few examples of evaluating arithmetic expressions in Python"
   ]
  },
  {
   "cell_type": "code",
   "execution_count": 23,
   "id": "1aa5ac9d-3034-44e2-bf1a-4be8bbbc936d",
   "metadata": {},
   "outputs": [
    {
     "data": {
      "text/plain": [
       "17"
      ]
     },
     "execution_count": 23,
     "metadata": {},
     "output_type": "execute_result"
    }
   ],
   "source": [
    "# This a simple arithmetic expression to mutiply then add integers\n",
    "(3*4)+5"
   ]
  },
  {
   "cell_type": "code",
   "execution_count": 24,
   "id": "906c47ef-78fd-4fb1-b7d6-a75b38e7e4f5",
   "metadata": {},
   "outputs": [
    {
     "data": {
      "text/plain": [
       "3.3333333333333335"
      ]
     },
     "execution_count": 24,
     "metadata": {},
     "output_type": "execute_result"
    }
   ],
   "source": [
    "# This will convert 200 minutes to hours by diving by 60\n",
    "200/60"
   ]
  },
  {
   "cell_type": "markdown",
   "id": "acc86e13-b575-4ab2-998e-61e36399bf24",
   "metadata": {},
   "source": [
    "## Author \n",
    "Sandeep Vangala"
   ]
  },
  {
   "cell_type": "code",
   "execution_count": null,
   "id": "df0093c6-2596-40c0-bd38-fcbe16936472",
   "metadata": {},
   "outputs": [],
   "source": []
  }
 ],
 "metadata": {
  "kernelspec": {
   "display_name": "Python 3 (ipykernel)",
   "language": "python",
   "name": "python3"
  },
  "language_info": {
   "codemirror_mode": {
    "name": "ipython",
    "version": 3
   },
   "file_extension": ".py",
   "mimetype": "text/x-python",
   "name": "python",
   "nbconvert_exporter": "python",
   "pygments_lexer": "ipython3",
   "version": "3.12.7"
  }
 },
 "nbformat": 4,
 "nbformat_minor": 5
}
